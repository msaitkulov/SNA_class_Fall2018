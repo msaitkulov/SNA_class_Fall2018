{
 "cells": [
  {
   "cell_type": "code",
   "execution_count": 7,
   "metadata": {},
   "outputs": [
    {
     "name": "stdout",
     "output_type": "stream",
     "text": [
      "Mon Nov 19 09:57:12 2018       \n",
      "+-----------------------------------------------------------------------------+\n",
      "| NVIDIA-SMI 384.130                Driver Version: 384.130                   |\n",
      "|-------------------------------+----------------------+----------------------+\n",
      "| GPU  Name        Persistence-M| Bus-Id        Disp.A | Volatile Uncorr. ECC |\n",
      "| Fan  Temp  Perf  Pwr:Usage/Cap|         Memory-Usage | GPU-Util  Compute M. |\n",
      "|===============================+======================+======================|\n",
      "|   0  GeForce GTX 108...  Off  | 00000000:05:00.0 Off |                  N/A |\n",
      "| 30%   45C    P2    56W / 250W |   4506MiB / 11171MiB |      0%      Default |\n",
      "+-------------------------------+----------------------+----------------------+\n",
      "|   1  GeForce GTX 108...  Off  | 00000000:06:00.0 Off |                  N/A |\n",
      "| 30%   42C    P8    17W / 250W |     10MiB / 11172MiB |      0%      Default |\n",
      "+-------------------------------+----------------------+----------------------+\n",
      "|   2  GeForce GTX 108...  Off  | 00000000:09:00.0 Off |                  N/A |\n",
      "| 38%   51C    P2    58W / 250W |   8754MiB / 11172MiB |      4%      Default |\n",
      "+-------------------------------+----------------------+----------------------+\n",
      "                                                                               \n",
      "+-----------------------------------------------------------------------------+\n",
      "| Processes:                                                       GPU Memory |\n",
      "|  GPU       PID   Type   Process name                             Usage      |\n",
      "|=============================================================================|\n",
      "|    0      3434      C   /home/edaniel/env3/bin/python3              2375MiB |\n",
      "|    0     11307      C   ...ov/miniconda/envs/dlClasses1/bin/python   241MiB |\n",
      "|    0     12568      C   ...holus/.conda/envs/pytorchenv/bin/python  1677MiB |\n",
      "|    0     27873      C   ...ov/miniconda/envs/dlClasses1/bin/python   203MiB |\n",
      "|    2     20643      C   /home/edaniel/env3/bin/python3              1251MiB |\n",
      "|    2     32211      C   python                                      7493MiB |\n",
      "+-----------------------------------------------------------------------------+\n"
     ]
    }
   ],
   "source": [
    "!nvidia-smi"
   ]
  },
  {
   "cell_type": "code",
   "execution_count": 5,
   "metadata": {},
   "outputs": [],
   "source": [
    "!kill 2311"
   ]
  },
  {
   "cell_type": "code",
   "execution_count": 9,
   "metadata": {},
   "outputs": [],
   "source": [
    "import os \n",
    "os.environ['CUDA_VISIBLE_DEVICES'] = '1'\n",
    "import tensorflow as tf\n",
    "\n",
    "config = tf.ConfigProto()\n",
    "config.gpu_options.allow_growth = True\n",
    "session = tf.Session(config=config)"
   ]
  },
  {
   "cell_type": "markdown",
   "metadata": {},
   "source": [
    "[Pre-Processing in Natural Language Machine Learning](https://towardsdatascience.com/pre-processing-in-natural-language-machine-learning-898a84b8bd47)\n",
    "\n",
    "[Correcting Words using Python and NLTK](https://rustyonrampage.github.io/text-mining/2017/11/28/spelling-correction-with-python-and-nltk.html)"
   ]
  },
  {
   "cell_type": "markdown",
   "metadata": {},
   "source": [
    "What You Need to Do:\n",
    "\n",
    "The assignment will implement a module to perform sentiment analysis of incoming microblogs streams. It should incorporate the following functions:\n",
    "\n",
    "1. Basic Sentiment Classifier:\n",
    "    - It will process the training dataset to train the classifiers using any suitable machine learning technique.\n",
    "    - The initial classifier will be trained based on text features only using a basic set of sentiment lexicon.\n",
    "    - The basic classifier will assign a new input tweet into 3 classes of: positive (+1), negative (-1) and neutral (0).\n",
    "    - The ability to predict organization (e.g. Apple) given a Tweet\n",
    "    - The ability to perform sentiment analysis with respect to given organization classes.\n",
    "\n",
    "2. Enhanced Functions:\n",
    "    - Able to explore temporal information in determining the sentiment of incoming tweets.\n",
    "    - Expand to more than 3 sentiment classes (say in 5-point scale)"
   ]
  },
  {
   "cell_type": "code",
   "execution_count": 1,
   "metadata": {},
   "outputs": [],
   "source": [
    "from IPython.core.interactiveshell import InteractiveShell\n",
    "InteractiveShell.ast_node_interactivity = 'all'"
   ]
  },
  {
   "cell_type": "code",
   "execution_count": 2,
   "metadata": {},
   "outputs": [],
   "source": [
    "import pandas as pd\n",
    "import numpy as np\n",
    "import scipy\n",
    "from sklearn.naive_bayes import MultinomialNB"
   ]
  },
  {
   "cell_type": "code",
   "execution_count": 4,
   "metadata": {},
   "outputs": [],
   "source": [
    "train = pd.read_csv('./Train.csv')\n",
    "test = pd.read_csv('./Test.csv')"
   ]
  },
  {
   "cell_type": "markdown",
   "metadata": {},
   "source": [
    "## Dropping irrelevant data"
   ]
  },
  {
   "cell_type": "code",
   "execution_count": 5,
   "metadata": {},
   "outputs": [
    {
     "name": "stdout",
     "output_type": "stream",
     "text": [
      "(2272, 4) (237, 4)\n"
     ]
    },
    {
     "data": {
      "text/html": [
       "<div>\n",
       "<style scoped>\n",
       "    .dataframe tbody tr th:only-of-type {\n",
       "        vertical-align: middle;\n",
       "    }\n",
       "\n",
       "    .dataframe tbody tr th {\n",
       "        vertical-align: top;\n",
       "    }\n",
       "\n",
       "    .dataframe thead th {\n",
       "        text-align: right;\n",
       "    }\n",
       "</style>\n",
       "<table border=\"1\" class=\"dataframe\">\n",
       "  <thead>\n",
       "    <tr style=\"text-align: right;\">\n",
       "      <th></th>\n",
       "      <th>Topic</th>\n",
       "      <th>Sentiment</th>\n",
       "      <th>TweetDate</th>\n",
       "      <th>TweetText</th>\n",
       "    </tr>\n",
       "  </thead>\n",
       "  <tbody>\n",
       "    <tr>\n",
       "      <th>0</th>\n",
       "      <td>apple</td>\n",
       "      <td>positive</td>\n",
       "      <td>Tue Oct 18 21:53:25 +0000 2011</td>\n",
       "      <td>Now all @Apple has to do is get swype on the i...</td>\n",
       "    </tr>\n",
       "    <tr>\n",
       "      <th>1</th>\n",
       "      <td>apple</td>\n",
       "      <td>positive</td>\n",
       "      <td>Tue Oct 18 21:09:33 +0000 2011</td>\n",
       "      <td>@Apple will be adding more carrier support to ...</td>\n",
       "    </tr>\n",
       "    <tr>\n",
       "      <th>2</th>\n",
       "      <td>apple</td>\n",
       "      <td>positive</td>\n",
       "      <td>Tue Oct 18 21:02:20 +0000 2011</td>\n",
       "      <td>Hilarious @youtube video - guy does a duet wit...</td>\n",
       "    </tr>\n",
       "    <tr>\n",
       "      <th>3</th>\n",
       "      <td>apple</td>\n",
       "      <td>positive</td>\n",
       "      <td>Tue Oct 18 20:40:10 +0000 2011</td>\n",
       "      <td>@RIM you made it too easy for me to switch to ...</td>\n",
       "    </tr>\n",
       "    <tr>\n",
       "      <th>4</th>\n",
       "      <td>apple</td>\n",
       "      <td>positive</td>\n",
       "      <td>Tue Oct 18 20:34:00 +0000 2011</td>\n",
       "      <td>I just realized that the reason I got into twi...</td>\n",
       "    </tr>\n",
       "  </tbody>\n",
       "</table>\n",
       "</div>"
      ],
      "text/plain": [
       "   Topic Sentiment                       TweetDate  \\\n",
       "0  apple  positive  Tue Oct 18 21:53:25 +0000 2011   \n",
       "1  apple  positive  Tue Oct 18 21:09:33 +0000 2011   \n",
       "2  apple  positive  Tue Oct 18 21:02:20 +0000 2011   \n",
       "3  apple  positive  Tue Oct 18 20:40:10 +0000 2011   \n",
       "4  apple  positive  Tue Oct 18 20:34:00 +0000 2011   \n",
       "\n",
       "                                           TweetText  \n",
       "0  Now all @Apple has to do is get swype on the i...  \n",
       "1  @Apple will be adding more carrier support to ...  \n",
       "2  Hilarious @youtube video - guy does a duet wit...  \n",
       "3  @RIM you made it too easy for me to switch to ...  \n",
       "4  I just realized that the reason I got into twi...  "
      ]
     },
     "execution_count": 5,
     "metadata": {},
     "output_type": "execute_result"
    }
   ],
   "source": [
    "train = train[train.Sentiment != 'irrelevant']\n",
    "test = test[test.Sentiment != 'irrelevant']\n",
    "print(train.shape, test.shape)\n",
    "train.head()"
   ]
  },
  {
   "cell_type": "code",
   "execution_count": 6,
   "metadata": {
    "scrolled": true
   },
   "outputs": [
    {
     "data": {
      "text/plain": [
       "\"Hilarious @youtube video - guy does a duet with @apple 's Siri. Pretty much sums up the love affair! http://t.co/8ExbnQjY\""
      ]
     },
     "execution_count": 6,
     "metadata": {},
     "output_type": "execute_result"
    }
   ],
   "source": [
    "train['TweetText'][2]"
   ]
  },
  {
   "cell_type": "code",
   "execution_count": 7,
   "metadata": {},
   "outputs": [
    {
     "data": {
      "text/plain": [
       "apple        855\n",
       "microsoft    487\n",
       "google       473\n",
       "twitter      457\n",
       "Name: Topic, dtype: int64"
      ]
     },
     "execution_count": 7,
     "metadata": {},
     "output_type": "execute_result"
    }
   ],
   "source": [
    "train['Topic'].value_counts()"
   ]
  },
  {
   "cell_type": "code",
   "execution_count": 8,
   "metadata": {},
   "outputs": [
    {
     "data": {
      "text/plain": [
       "neutral     1475\n",
       "negative     426\n",
       "positive     371\n",
       "Name: Sentiment, dtype: int64"
      ]
     },
     "execution_count": 8,
     "metadata": {},
     "output_type": "execute_result"
    }
   ],
   "source": [
    "train['Sentiment'].value_counts()"
   ]
  },
  {
   "cell_type": "markdown",
   "metadata": {},
   "source": [
    "# Data processing"
   ]
  },
  {
   "cell_type": "markdown",
   "metadata": {},
   "source": [
    "- битовые маски для смайликов\n",
    "- восклицательные знаки"
   ]
  },
  {
   "cell_type": "markdown",
   "metadata": {},
   "source": [
    "## Manual feature extraction"
   ]
  },
  {
   "cell_type": "code",
   "execution_count": 9,
   "metadata": {},
   "outputs": [],
   "source": [
    "mask_exclamation_train = train['TweetText'].str.contains('!').values\n",
    "mask_exclamation_test = test['TweetText'].str.contains('!').values"
   ]
  },
  {
   "cell_type": "code",
   "execution_count": 10,
   "metadata": {},
   "outputs": [],
   "source": [
    "mask_fun_smile_train = train['TweetText'].apply(lambda tweet: ')' in tweet and '(' not in tweet).values\n",
    "mask_sad_smile_train = train['TweetText'].apply(lambda tweet: '(' in tweet and ')' not in tweet).values\n",
    "mask_fun_smile_test = test['TweetText'].apply(lambda tweet: ')' in tweet and '(' not in tweet).values\n",
    "mask_sad_smile_test = test['TweetText'].apply(lambda tweet: '(' in tweet and ')' not in tweet).values\n",
    "\n",
    "def get_manual_features(tweet):\n",
    "    return np.array(['!' in tweet, ')' in tweet and '(' not in tweet, '(' in tweet and ')' not in tweet]).astype('int')"
   ]
  },
  {
   "cell_type": "code",
   "execution_count": 11,
   "metadata": {},
   "outputs": [],
   "source": [
    "manual_features_train = np.c_[mask_exclamation_train, mask_fun_smile_train, mask_sad_smile_train]\n",
    "manual_features_test = np.c_[mask_exclamation_test, mask_fun_smile_test, mask_sad_smile_test]"
   ]
  },
  {
   "cell_type": "code",
   "execution_count": 12,
   "metadata": {},
   "outputs": [
    {
     "data": {
      "text/plain": [
       "(2272, 3)"
      ]
     },
     "execution_count": 12,
     "metadata": {},
     "output_type": "execute_result"
    },
    {
     "data": {
      "text/plain": [
       "(237, 3)"
      ]
     },
     "execution_count": 12,
     "metadata": {},
     "output_type": "execute_result"
    }
   ],
   "source": [
    "manual_features_train.shape\n",
    "manual_features_test.shape"
   ]
  },
  {
   "cell_type": "markdown",
   "metadata": {},
   "source": [
    "## Tweet text preprocessing"
   ]
  },
  {
   "cell_type": "code",
   "execution_count": 13,
   "metadata": {},
   "outputs": [],
   "source": [
    "import re\n",
    "from nltk.tokenize import word_tokenize\n",
    "from nltk.corpus import stopwords\n",
    "from nltk.stem import PorterStemmer\n",
    "from nltk import pos_tag, pos_tag_sents\n",
    "from nltk.corpus import sentiwordnet as swn"
   ]
  },
  {
   "cell_type": "code",
   "execution_count": 14,
   "metadata": {},
   "outputs": [],
   "source": [
    "def process_message(tweet, lower_case = True, stem = True, stop_words = True):\n",
    "    tweet = tweet.strip()\n",
    "    if lower_case:\n",
    "        tweet = tweet.lower()\n",
    "#     words = word_tokenize(message)\n",
    "#     message = re.sub(r'\\bhttp*\\b', r'LINK', message)\n",
    "#     message = re.sub(r'\\.|\\,|\\-|\\?|\\!|\\:\\s|\\;\\s|&quot;*|&lt;*',' ', message)\n",
    "#     message = re.sub(r'\\s+', ' ', message)\n",
    "    tweet = re.sub('http\\S+\\s*', '', tweet)  # remove URLs\n",
    "    tweet = re.sub('RT|cc', '', tweet)  # remove RT and cc //was off\n",
    "    tweet = re.sub('#\\S+', '', tweet)  # remove hashtags\n",
    "#     tweet = re.sub('@\\S+', '', tweet)  # remove mentions\n",
    "#     tweet = re.sub(\"#[\\w]*\", '', tweet)\n",
    "#     tweet = re.sub(\"@[\\w]*\", '', tweet) #was off\n",
    "\n",
    "    tweet = re.sub('[%s]' % re.escape(\"\"\"!\"#$%&'()*+,-./:;<=>?@[\\]^_`{|}~\"\"\"), '', tweet)  # remove punctuations\n",
    "    tweet = re.sub(\" \\d+\", ' ', tweet)\n",
    "#     tweet = re.sub(\"[^a-zA-Z#]\", ' ', tweet) # remove special characters, numbers, punctuations, one more time\n",
    "    \n",
    "    tweet = re.sub('\\s+', ' ', tweet)  # remove extra whitespace\n",
    "    \n",
    "    words = tweet.split()\n",
    "    if stop_words:\n",
    "        sw = stopwords.words('english')\n",
    "        words = [word for word in words if word not in sw]\n",
    "    if stem:\n",
    "        stemmer = PorterStemmer()\n",
    "        words = [stemmer.stem(word) for word in words]\n",
    "    return ' '.join(words)"
   ]
  },
  {
   "cell_type": "code",
   "execution_count": 15,
   "metadata": {},
   "outputs": [],
   "source": [
    "X_tweets_train = train['TweetText'].apply(process_message)\n",
    "X_tweets_test = test['TweetText'].apply(process_message)"
   ]
  },
  {
   "cell_type": "code",
   "execution_count": 16,
   "metadata": {
    "scrolled": false
   },
   "outputs": [
    {
     "data": {
      "text/plain": [
       "0                        appl get swype iphon crack iphon\n",
       "1                   appl ad carrier support iphon announc\n",
       "2       hilari youtub video guy duet appl siri pretti ...\n",
       "3                  rim made easi switch appl iphon see ya\n",
       "4               realiz reason got twitter ios5 thank appl\n",
       "5       im current blackberri user littl bit disappoin...\n",
       "6       strangest thing siri said far sooo glad appl g...\n",
       "7       great close person event appl tonight regent s...\n",
       "8       compani experi best custom servic asid zappo appl\n",
       "9                            appli job appl hope call lol\n",
       "10      lmao think appl onto someth magic die haha sir...\n",
       "11      rt philliprowntre regist appl develop here hop...\n",
       "12                                  wow great deal refurb\n",
       "13      regist appl develop here hope actual help grea...\n",
       "14      你好 current learn mandarin upcom trip hong kong...\n",
       "15      come dark side 📱“gretcheneclark hey appl send ...\n",
       "16      hey appl send free iphon version publicli cere...\n",
       "17              thank appl find mac locat wipe stolen air\n",
       "18      thank appl covent garden replac macbook keyboa...\n",
       "19                               dailydealchat appl thank\n",
       "20         ipad replac bound playbook nfl team appl nytim\n",
       "21                                         applegood ipad\n",
       "22                                     appl siri eff amaz\n",
       "23                                amaz new appl io featur\n",
       "24            one featur educ app appl websit today sweet\n",
       "25      want someth done right go appl att your useles...\n",
       "26                                      unexpect workshop\n",
       "27                                                    lt3\n",
       "28      » rt appl question bro rt ainteeentrippin get ...\n",
       "29                        rt imightbewrong im peopl bitch\n",
       "                              ...                        \n",
       "2974                       cute friend melodybt final got\n",
       "2975                                                 blog\n",
       "2976                                     bout tweet tweet\n",
       "2977                                            goodnight\n",
       "2978                                               bammer\n",
       "2979                                            run world\n",
       "2980                              aint realli day suppppp\n",
       "2981    meu twitter tá ficando velho já age day hour m...\n",
       "2982                                                     \n",
       "2983                             one seriou statement tho\n",
       "2984                                                thank\n",
       "2985    friend follow microsofthelp great resourc offi...\n",
       "2986                               mofucka dont give fuck\n",
       "2987                               wonder get celebr neck\n",
       "2988                                            feel like\n",
       "2989                       marijuana loud hoe follow like\n",
       "2990                                                     \n",
       "2991                                      asshsmith never\n",
       "2992                          twhistler make twitter sing\n",
       "2993                          “bluechipperz nigga need go\n",
       "2994                                     rt jroc616 lovin\n",
       "2995                                                 love\n",
       "2996       someth someth qanda someth someth world seriou\n",
       "2997                                        nigga need go\n",
       "2998                                              increas\n",
       "2999                                                    ☼\n",
       "3000        madtruckman modern day autograph like way put\n",
       "3001                                           62 way use\n",
       "3002                           log think im bout go sleep\n",
       "3003                           dumb dont like hush justin\n",
       "Name: TweetText, Length: 2272, dtype: object"
      ]
     },
     "execution_count": 16,
     "metadata": {},
     "output_type": "execute_result"
    }
   ],
   "source": [
    "X_tweets_train"
   ]
  },
  {
   "cell_type": "markdown",
   "metadata": {},
   "source": [
    "## Getting tokens scores from SentiWordNet"
   ]
  },
  {
   "cell_type": "code",
   "execution_count": 17,
   "metadata": {},
   "outputs": [],
   "source": [
    "X_words_train = X_tweets_train.apply(word_tokenize)\n",
    "X_words_test = X_tweets_test.apply(word_tokenize)"
   ]
  },
  {
   "cell_type": "code",
   "execution_count": 18,
   "metadata": {},
   "outputs": [],
   "source": [
    "X_pos_train = X_words_train.apply(pos_tag)\n",
    "X_pos_test = X_words_test.apply(pos_tag)"
   ]
  },
  {
   "cell_type": "code",
   "execution_count": 19,
   "metadata": {},
   "outputs": [],
   "source": [
    "def tokens_pos_to_sentiments(tokens_pos_lst):\n",
    "    score_lst = []\n",
    "    for token in tokens_pos_lst:\n",
    "        newtag=''\n",
    "        if token[1].startswith('NN'):\n",
    "            newtag='n'\n",
    "        elif token[1].startswith('JJ'):\n",
    "            newtag='a'\n",
    "        elif token[1].startswith('V'):\n",
    "            newtag='v'\n",
    "        elif token[1].startswith('R'):\n",
    "            newtag='r'\n",
    "        else:\n",
    "            newtag=''       \n",
    "        if newtag != '':    \n",
    "            synsets = list(swn.senti_synsets(token[0], newtag))\n",
    "            #Getting average of all possible sentiments, as you requested        \n",
    "            score = 0\n",
    "            if len(synsets) > 0:\n",
    "                for syn in synsets:\n",
    "                    score += syn.pos_score() - syn.neg_score()\n",
    "                score_lst.append(score)\n",
    "    if score_lst == []:\n",
    "        return 0\n",
    "    else:\n",
    "        return np.sum(score_lst)"
   ]
  },
  {
   "cell_type": "code",
   "execution_count": 20,
   "metadata": {},
   "outputs": [],
   "source": [
    "X_sent_score_train = X_pos_train.apply(tokens_pos_to_sentiments).values[:, np.newaxis]\n",
    "X_sent_score_test = X_pos_test.apply(tokens_pos_to_sentiments).values[:, np.newaxis]"
   ]
  },
  {
   "cell_type": "markdown",
   "metadata": {},
   "source": [
    "## Tokenizing of processed tweet text"
   ]
  },
  {
   "cell_type": "code",
   "execution_count": 33,
   "metadata": {},
   "outputs": [],
   "source": [
    "from sklearn.feature_extraction.text import CountVectorizer, TfidfVectorizer\n",
    "from sklearn.metrics import f1_score"
   ]
  },
  {
   "cell_type": "code",
   "execution_count": 22,
   "metadata": {},
   "outputs": [],
   "source": [
    "count_vectorizer = CountVectorizer()"
   ]
  },
  {
   "cell_type": "code",
   "execution_count": 23,
   "metadata": {},
   "outputs": [],
   "source": [
    "X_tokens_train = count_vectorizer.fit_transform(X_tweets_train)\n",
    "X_tokens_test = count_vectorizer.transform(X_tweets_test)"
   ]
  },
  {
   "cell_type": "code",
   "execution_count": 24,
   "metadata": {},
   "outputs": [
    {
     "data": {
      "text/plain": [
       "(2272, 3784)"
      ]
     },
     "execution_count": 24,
     "metadata": {},
     "output_type": "execute_result"
    }
   ],
   "source": [
    "X_tokens_train.shape"
   ]
  },
  {
   "cell_type": "markdown",
   "metadata": {},
   "source": [
    "## Combine all features"
   ]
  },
  {
   "cell_type": "code",
   "execution_count": 25,
   "metadata": {
    "scrolled": true
   },
   "outputs": [],
   "source": [
    "X_train = scipy.sparse.hstack((X_tokens_train, manual_features_train))\n",
    "X_test = scipy.sparse.hstack((X_tokens_test, manual_features_test))"
   ]
  },
  {
   "cell_type": "code",
   "execution_count": 26,
   "metadata": {},
   "outputs": [
    {
     "data": {
      "text/plain": [
       "<2272x3787 sparse matrix of type '<class 'numpy.int64'>'\n",
       "\twith 15178 stored elements in COOrdinate format>"
      ]
     },
     "execution_count": 26,
     "metadata": {},
     "output_type": "execute_result"
    }
   ],
   "source": [
    "X_train"
   ]
  },
  {
   "cell_type": "markdown",
   "metadata": {},
   "source": [
    "## All features + company_name added to features"
   ]
  },
  {
   "cell_type": "code",
   "execution_count": 27,
   "metadata": {},
   "outputs": [
    {
     "data": {
      "text/plain": [
       "<2272x3791 sparse matrix of type '<class 'numpy.int64'>'\n",
       "\twith 17450 stored elements in COOrdinate format>"
      ]
     },
     "execution_count": 27,
     "metadata": {},
     "output_type": "execute_result"
    }
   ],
   "source": [
    "# train[\"Topic\"] = train[\"Topic\"].astype(pd.api.types.CategoricalDtype(categories = [\"apple\", \"microsoft\",\"google\",\"twitter\"]))\n",
    "# test[\"Topic\"] = test[\"Topic\"].astype(pd.api.types.CategoricalDtype(categories = [\"apple\", \"microsoft\",\"google\",\"twitter\"]))\n",
    "# test[\"Topic\"] = test[\"Topic\"].astype('category') #py2\n",
    "hotTrain = pd.get_dummies(train['Topic'], prefix='company')#dummy_na=True\n",
    "hotTest = pd.get_dummies(test['Topic'], prefix='company')\n",
    "company_cols = ['company_apple', 'company_twitter', 'company_microsoft', 'company_google']\n",
    "X_train_with_comp = scipy.sparse.hstack((X_train, hotTrain[company_cols].values))\n",
    "X_test_with_comp = scipy.sparse.hstack((X_test, hotTest[company_cols].values))\n",
    "X_train_with_comp"
   ]
  },
  {
   "cell_type": "markdown",
   "metadata": {},
   "source": [
    "# Random Forest Classifier"
   ]
  },
  {
   "cell_type": "code",
   "execution_count": 28,
   "metadata": {},
   "outputs": [
    {
     "name": "stderr",
     "output_type": "stream",
     "text": [
      "/Users/max/anaconda3/lib/python3.6/site-packages/sklearn/ensemble/weight_boosting.py:29: DeprecationWarning: numpy.core.umath_tests is an internal NumPy module and should not be imported. It will be removed in a future NumPy release.\n",
      "  from numpy.core.umath_tests import inner1d\n"
     ]
    }
   ],
   "source": [
    "from sklearn.ensemble import RandomForestClassifier"
   ]
  },
  {
   "cell_type": "code",
   "execution_count": 40,
   "metadata": {},
   "outputs": [],
   "source": [
    "rf_cls_sentiment = RandomForestClassifier(n_estimators=100)"
   ]
  },
  {
   "cell_type": "code",
   "execution_count": 41,
   "metadata": {},
   "outputs": [
    {
     "name": "stdout",
     "output_type": "stream",
     "text": [
      "CPU times: user 191 ms, sys: 3.93 ms, total: 195 ms\n",
      "Wall time: 194 ms\n"
     ]
    },
    {
     "data": {
      "text/plain": [
       "RandomForestClassifier(bootstrap=True, class_weight=None, criterion='gini',\n",
       "            max_depth=None, max_features='auto', max_leaf_nodes=None,\n",
       "            min_impurity_decrease=0.0, min_impurity_split=None,\n",
       "            min_samples_leaf=1, min_samples_split=2,\n",
       "            min_weight_fraction_leaf=0.0, n_estimators=100, n_jobs=1,\n",
       "            oob_score=False, random_state=None, verbose=0,\n",
       "            warm_start=False)"
      ]
     },
     "execution_count": 41,
     "metadata": {},
     "output_type": "execute_result"
    }
   ],
   "source": [
    "%%time\n",
    "rf_cls_sentiment.fit(X_sent_score_train, train['Sentiment'])"
   ]
  },
  {
   "cell_type": "code",
   "execution_count": 42,
   "metadata": {},
   "outputs": [
    {
     "data": {
      "text/plain": [
       "0.6914612676056338"
      ]
     },
     "execution_count": 42,
     "metadata": {},
     "output_type": "execute_result"
    },
    {
     "data": {
      "text/plain": [
       "0.6540084388185654"
      ]
     },
     "execution_count": 42,
     "metadata": {},
     "output_type": "execute_result"
    }
   ],
   "source": [
    "rf_cls_sentiment.score(X_sent_score_train, train['Sentiment'])\n",
    "rf_cls_sentiment.score(X_sent_score_test, test['Sentiment'])"
   ]
  },
  {
   "cell_type": "code",
   "execution_count": 48,
   "metadata": {},
   "outputs": [
    {
     "data": {
      "text/plain": [
       "0.6235615849546761"
      ]
     },
     "execution_count": 48,
     "metadata": {},
     "output_type": "execute_result"
    },
    {
     "data": {
      "text/plain": [
       "0.581642950773208"
      ]
     },
     "execution_count": 48,
     "metadata": {},
     "output_type": "execute_result"
    }
   ],
   "source": [
    "f1_score(train['Sentiment'], rf_cls_sentiment.predict(X_sent_score_train), average='weighted')\n",
    "f1_score(test['Sentiment'], rf_cls_sentiment.predict(X_sent_score_test), average='weighted')"
   ]
  },
  {
   "cell_type": "markdown",
   "metadata": {},
   "source": [
    "# Naïve Bayes Model"
   ]
  },
  {
   "cell_type": "code",
   "execution_count": 49,
   "metadata": {},
   "outputs": [],
   "source": [
    "from sklearn.naive_bayes import MultinomialNB"
   ]
  },
  {
   "cell_type": "markdown",
   "metadata": {},
   "source": [
    "## Sentiment"
   ]
  },
  {
   "cell_type": "code",
   "execution_count": 50,
   "metadata": {
    "scrolled": false
   },
   "outputs": [
    {
     "name": "stdout",
     "output_type": "stream",
     "text": [
      "CPU times: user 13.6 ms, sys: 7.61 ms, total: 21.2 ms\n",
      "Wall time: 37.4 ms\n"
     ]
    }
   ],
   "source": [
    "%%time\n",
    "nb_cls_sentiment = MultinomialNB()\n",
    "nb_cls_sentiment.fit(X_train, train['Sentiment'])"
   ]
  },
  {
   "cell_type": "code",
   "execution_count": 51,
   "metadata": {},
   "outputs": [
    {
     "data": {
      "text/plain": [
       "0.8789612676056338"
      ]
     },
     "execution_count": 51,
     "metadata": {},
     "output_type": "execute_result"
    },
    {
     "data": {
      "text/plain": [
       "0.7510548523206751"
      ]
     },
     "execution_count": 51,
     "metadata": {},
     "output_type": "execute_result"
    }
   ],
   "source": [
    "nb_cls_sentiment.score(X_train, train['Sentiment']) # deleted  single numbers, but not like ios5 or iphone10, because its model\n",
    "nb_cls_sentiment.score(X_test, test['Sentiment'])"
   ]
  },
  {
   "cell_type": "code",
   "execution_count": 53,
   "metadata": {},
   "outputs": [
    {
     "data": {
      "text/plain": [
       "0.8728932367605703"
      ]
     },
     "execution_count": 53,
     "metadata": {},
     "output_type": "execute_result"
    },
    {
     "data": {
      "text/plain": [
       "0.7309731053879309"
      ]
     },
     "execution_count": 53,
     "metadata": {},
     "output_type": "execute_result"
    }
   ],
   "source": [
    "f1_score(train['Sentiment'], nb_cls_sentiment.predict(X_train), average='weighted')\n",
    "f1_score(test['Sentiment'], nb_cls_sentiment.predict(X_test), average='weighted')"
   ]
  },
  {
   "cell_type": "code",
   "execution_count": 67,
   "metadata": {},
   "outputs": [],
   "source": [
    "def models_api(request_sentiment, classifier):\n",
    "    processed_request = process_message(request_sentiment)\n",
    "    print(\"processed_request:\", processed_request)\n",
    "    vectorized = count_vectorizer.transform([processed_request])\n",
    "    cls_score = classifier.predict_proba(\n",
    "        scipy.sparse.hstack(\n",
    "            (vectorized.toarray(), get_manual_features(request_sentiment))\n",
    "        )\n",
    "    )\n",
    "    return cls_score"
   ]
  },
  {
   "cell_type": "markdown",
   "metadata": {},
   "source": [
    "### API"
   ]
  },
  {
   "cell_type": "code",
   "execution_count": 68,
   "metadata": {},
   "outputs": [
    {
     "name": "stdout",
     "output_type": "stream",
     "text": [
      "processed_request: appl siri eff amaz\n"
     ]
    },
    {
     "data": {
      "text/plain": [
       "array([[0.00738008, 0.15400853, 0.83861139]])"
      ]
     },
     "execution_count": 68,
     "metadata": {},
     "output_type": "execute_result"
    }
   ],
   "source": [
    "request_sentiment = \"@apple @siri is efffing amazing!!))\"\n",
    "models_api(request_sentiment, nb_cls_sentiment)"
   ]
  },
  {
   "cell_type": "markdown",
   "metadata": {},
   "source": [
    "## Topic(company_name)"
   ]
  },
  {
   "cell_type": "code",
   "execution_count": 69,
   "metadata": {
    "scrolled": true
   },
   "outputs": [
    {
     "name": "stdout",
     "output_type": "stream",
     "text": [
      "CPU times: user 10.3 ms, sys: 2.52 ms, total: 12.8 ms\n",
      "Wall time: 10.6 ms\n"
     ]
    }
   ],
   "source": [
    "%%time\n",
    "nb_cls_topic = MultinomialNB()\n",
    "nb_cls_topic.fit(X_train, train['Topic'])"
   ]
  },
  {
   "cell_type": "code",
   "execution_count": 71,
   "metadata": {},
   "outputs": [
    {
     "data": {
      "text/plain": [
       "0.8873239436619719"
      ]
     },
     "execution_count": 71,
     "metadata": {},
     "output_type": "execute_result"
    },
    {
     "data": {
      "text/plain": [
       "0.7130801687763713"
      ]
     },
     "execution_count": 71,
     "metadata": {},
     "output_type": "execute_result"
    }
   ],
   "source": [
    "nb_cls_topic.score(X_train, train['Topic'])\n",
    "nb_cls_topic.score(X_test, test['Topic'])"
   ]
  },
  {
   "cell_type": "code",
   "execution_count": 72,
   "metadata": {},
   "outputs": [
    {
     "data": {
      "text/plain": [
       "0.887088097682837"
      ]
     },
     "execution_count": 72,
     "metadata": {},
     "output_type": "execute_result"
    },
    {
     "data": {
      "text/plain": [
       "0.6990892579904161"
      ]
     },
     "execution_count": 72,
     "metadata": {},
     "output_type": "execute_result"
    }
   ],
   "source": [
    "f1_score(train['Topic'], nb_cls_topic.predict(X_train), average='weighted')\n",
    "f1_score(test['Topic'], nb_cls_topic.predict(X_test), average='weighted')"
   ]
  },
  {
   "cell_type": "markdown",
   "metadata": {},
   "source": [
    "### API"
   ]
  },
  {
   "cell_type": "code",
   "execution_count": 73,
   "metadata": {},
   "outputs": [
    {
     "name": "stdout",
     "output_type": "stream",
     "text": [
      "processed_request: appl siri eff amaz\n"
     ]
    },
    {
     "data": {
      "text/plain": [
       "array([[9.99670368e-01, 2.89781998e-04, 3.40521273e-05, 5.79782982e-06]])"
      ]
     },
     "execution_count": 73,
     "metadata": {},
     "output_type": "execute_result"
    }
   ],
   "source": [
    "request_sentiment = \"@apple @siri is efffing amazing!!))\"\n",
    "models_api(request_sentiment, nb_cls_topic)"
   ]
  },
  {
   "cell_type": "markdown",
   "metadata": {},
   "source": [
    "## Sentiment on all features+company_name"
   ]
  },
  {
   "cell_type": "code",
   "execution_count": 74,
   "metadata": {
    "scrolled": false
   },
   "outputs": [
    {
     "name": "stdout",
     "output_type": "stream",
     "text": [
      "CPU times: user 10.3 ms, sys: 2.3 ms, total: 12.6 ms\n",
      "Wall time: 10.7 ms\n"
     ]
    }
   ],
   "source": [
    "%%time\n",
    "nb_cls_sentiment_ext = MultinomialNB()\n",
    "nb_cls_sentiment_ext.fit(X_train_with_comp, train['Sentiment'])"
   ]
  },
  {
   "cell_type": "code",
   "execution_count": 75,
   "metadata": {},
   "outputs": [
    {
     "data": {
      "text/plain": [
       "0.866637323943662"
      ]
     },
     "execution_count": 75,
     "metadata": {},
     "output_type": "execute_result"
    },
    {
     "data": {
      "text/plain": [
       "0.759493670886076"
      ]
     },
     "execution_count": 75,
     "metadata": {},
     "output_type": "execute_result"
    }
   ],
   "source": [
    "nb_cls_sentiment_ext.score(X_train_with_comp, train['Sentiment'])\n",
    "nb_cls_sentiment_ext.score(X_test_with_comp, test['Sentiment'])"
   ]
  },
  {
   "cell_type": "code",
   "execution_count": 77,
   "metadata": {},
   "outputs": [
    {
     "data": {
      "text/plain": [
       "0.8593235479756086"
      ]
     },
     "execution_count": 77,
     "metadata": {},
     "output_type": "execute_result"
    },
    {
     "data": {
      "text/plain": [
       "0.7368010443347316"
      ]
     },
     "execution_count": 77,
     "metadata": {},
     "output_type": "execute_result"
    }
   ],
   "source": [
    "f1_score(train['Sentiment'], nb_cls_sentiment_ext.predict(X_train_with_comp), average='weighted')\n",
    "f1_score(test['Sentiment'], nb_cls_sentiment_ext.predict(X_test_with_comp), average='weighted')"
   ]
  },
  {
   "cell_type": "markdown",
   "metadata": {},
   "source": [
    "### API"
   ]
  },
  {
   "cell_type": "code",
   "execution_count": 99,
   "metadata": {
    "scrolled": true
   },
   "outputs": [
    {
     "name": "stdout",
     "output_type": "stream",
     "text": [
      "processed_request: appl siri eff amaz\n",
      "[[0.01195309 0.15736783 0.83067908]]\n"
     ]
    }
   ],
   "source": [
    "request_sentiment = (\"@apple @siri is efffing amazing!!))\", \"apple\")\n",
    "\n",
    "processed_request = process_message(request_sentiment[0])\n",
    "request_topic = request_sentiment[1]\n",
    "print(\"processed_request:\", processed_request)\n",
    "vectorized = count_vectorizer.transform([processed_request])\n",
    "hot_topic = np.array([\n",
    "    request_topic == 'apple',\n",
    "    request_topic == 'google',\n",
    "    request_topic == 'microsoft',\n",
    "    request_topic == 'twitter']\n",
    ").astype('int')\n",
    "cls_score = nb_cls_sentiment_ext.predict_proba(\n",
    "    scipy.sparse.hstack(\n",
    "        (vectorized.toarray(), get_manual_features(request_sentiment[0]), hot_topic)\n",
    "    )\n",
    ")\n",
    "print(cls_score)"
   ]
  },
  {
   "cell_type": "markdown",
   "metadata": {},
   "source": [
    "# Random Forest Classifier again"
   ]
  },
  {
   "cell_type": "code",
   "execution_count": 79,
   "metadata": {},
   "outputs": [],
   "source": [
    "X_sent_score_ext_train = np.c_[nb_cls_sentiment_ext.predict_proba(X_train_with_comp), X_sent_score_train]\n",
    "X_sent_score_ext_test = np.c_[nb_cls_sentiment_ext.predict_proba(X_test_with_comp), X_sent_score_test]"
   ]
  },
  {
   "cell_type": "code",
   "execution_count": 80,
   "metadata": {},
   "outputs": [
    {
     "name": "stdout",
     "output_type": "stream",
     "text": [
      "CPU times: user 359 ms, sys: 5.45 ms, total: 364 ms\n",
      "Wall time: 363 ms\n"
     ]
    }
   ],
   "source": [
    "%%time\n",
    "rf_cls_sentiment_ext = RandomForestClassifier(n_estimators=100)\n",
    "rf_cls_sentiment_ext.fit(X_sent_score_ext_train, train['Sentiment'])"
   ]
  },
  {
   "cell_type": "code",
   "execution_count": 81,
   "metadata": {},
   "outputs": [
    {
     "data": {
      "text/plain": [
       "0.9889964788732394"
      ]
     },
     "execution_count": 81,
     "metadata": {},
     "output_type": "execute_result"
    },
    {
     "data": {
      "text/plain": [
       "0.7426160337552743"
      ]
     },
     "execution_count": 81,
     "metadata": {},
     "output_type": "execute_result"
    }
   ],
   "source": [
    "rf_cls_sentiment_ext.score(X_sent_score_ext_train, train['Sentiment'])\n",
    "rf_cls_sentiment_ext.score(X_sent_score_ext_test, test['Sentiment'])"
   ]
  },
  {
   "cell_type": "code",
   "execution_count": 82,
   "metadata": {},
   "outputs": [
    {
     "data": {
      "text/plain": [
       "0.9889754082134371"
      ]
     },
     "execution_count": 82,
     "metadata": {},
     "output_type": "execute_result"
    },
    {
     "data": {
      "text/plain": [
       "0.737079657332822"
      ]
     },
     "execution_count": 82,
     "metadata": {},
     "output_type": "execute_result"
    }
   ],
   "source": [
    "f1_score(train['Sentiment'], rf_cls_sentiment_ext.predict(X_sent_score_ext_train), average='weighted')\n",
    "f1_score(test['Sentiment'], rf_cls_sentiment_ext.predict(X_sent_score_ext_test), average='weighted')"
   ]
  },
  {
   "cell_type": "markdown",
   "metadata": {},
   "source": [
    "## LSTM"
   ]
  },
  {
   "cell_type": "code",
   "execution_count": 100,
   "metadata": {
    "collapsed": true
   },
   "outputs": [
    {
     "ename": "ModuleNotFoundError",
     "evalue": "No module named 'keras'",
     "output_type": "error",
     "traceback": [
      "\u001b[0;31m---------------------------------------------------------------------------\u001b[0m",
      "\u001b[0;31mModuleNotFoundError\u001b[0m                       Traceback (most recent call last)",
      "\u001b[0;32m<ipython-input-100-26c33db133d7>\u001b[0m in \u001b[0;36m<module>\u001b[0;34m()\u001b[0m\n\u001b[1;32m      1\u001b[0m \u001b[0;32mimport\u001b[0m \u001b[0mnumpy\u001b[0m\u001b[0;34m\u001b[0m\u001b[0m\n\u001b[1;32m      2\u001b[0m \u001b[0;31m# from keras.datasets import imdb\u001b[0m\u001b[0;34m\u001b[0m\u001b[0;34m\u001b[0m\u001b[0m\n\u001b[0;32m----> 3\u001b[0;31m \u001b[0;32mfrom\u001b[0m \u001b[0mkeras\u001b[0m\u001b[0;34m.\u001b[0m\u001b[0mmodels\u001b[0m \u001b[0;32mimport\u001b[0m \u001b[0mSequential\u001b[0m\u001b[0;34m\u001b[0m\u001b[0m\n\u001b[0m\u001b[1;32m      4\u001b[0m \u001b[0;32mfrom\u001b[0m \u001b[0mkeras\u001b[0m\u001b[0;34m.\u001b[0m\u001b[0mlayers\u001b[0m \u001b[0;32mimport\u001b[0m \u001b[0mDense\u001b[0m\u001b[0;34m\u001b[0m\u001b[0m\n\u001b[1;32m      5\u001b[0m \u001b[0;32mfrom\u001b[0m \u001b[0mkeras\u001b[0m\u001b[0;34m.\u001b[0m\u001b[0mlayers\u001b[0m \u001b[0;32mimport\u001b[0m \u001b[0mLSTM\u001b[0m\u001b[0;34m,\u001b[0m \u001b[0mDropout\u001b[0m\u001b[0;34m,\u001b[0m \u001b[0mConv1D\u001b[0m\u001b[0;34m,\u001b[0m \u001b[0mMaxPooling1D\u001b[0m\u001b[0;34m\u001b[0m\u001b[0m\n",
      "\u001b[0;31mModuleNotFoundError\u001b[0m: No module named 'keras'"
     ]
    }
   ],
   "source": [
    "import numpy\n",
    "# from keras.datasets import imdb\n",
    "from keras.models import Sequential\n",
    "from keras.layers import Dense\n",
    "from keras.layers import LSTM, Dropout, Conv1D, MaxPooling1D\n",
    "from keras.layers.embeddings import Embedding\n",
    "from keras.preprocessing import sequence\n",
    "from keras.preprocessing.text import Tokenizer\n",
    "from keras.preprocessing.sequence import pad_sequences\n",
    "import keras.utils as ku\n",
    "# fix random seed for reproducibility\n",
    "numpy.random.seed(7)"
   ]
  },
  {
   "cell_type": "code",
   "execution_count": 452,
   "metadata": {},
   "outputs": [],
   "source": [
    "tokenizer = Tokenizer()\n",
    "\n",
    "def dataset_preparation(corpus):\n",
    "    #to obtain the tokens and their index in the corpus. \n",
    "    tokenizer.fit_on_texts(corpus)\n",
    "    total_words = len(tokenizer.word_index) + 1\n",
    "    \n",
    "    #to convert the corpus into a flat dataset of sentence sequences\n",
    "    input_sequences = []\n",
    "    for line in corpus:\n",
    "        token_list = tokenizer.texts_to_sequences([line])[0]        \n",
    "#         for i in range(0, len(token_list)): #if you need to consider all posbl ngramms\n",
    "#             n_gram_sequence = token_list[:i+1]\n",
    "#             input_sequences.append(n_gram_sequence)\n",
    "        input_sequences.append(token_list)            \n",
    "    #to pad the sequences and make their lengths equal \n",
    "    max_sequence_len = max([len(x) for x in input_sequences])\n",
    "    input_sequences = np.array(pad_sequences(input_sequences,   \n",
    "                          maxlen=max_sequence_len, padding='pre'))\n",
    "    return input_sequences, max_sequence_len, total_words"
   ]
  },
  {
   "cell_type": "code",
   "execution_count": 454,
   "metadata": {},
   "outputs": [
    {
     "name": "stdout",
     "output_type": "stream",
     "text": [
      "(2509,)\n",
      "(2509, 19)\n"
     ]
    }
   ],
   "source": [
    "all_tweets = np.concatenate((X_tweets_train.values, X_tweets_test.values), axis=0)\n",
    "print(all_tweets.shape)\n",
    "\n",
    "processed_tweets, max_tweet_legth, total_words = dataset_preparation(all_tweets)\n",
    "print(processed_tweets.shape)\n",
    "\n",
    "X_processed_tweets_train = processed_tweets[ :X_tweets_train.shape[0]]\n",
    "X_processed_tweets_test = processed_tweets[X_tweets_train.shape[0] : ]"
   ]
  },
  {
   "cell_type": "code",
   "execution_count": 455,
   "metadata": {},
   "outputs": [
    {
     "name": "stdout",
     "output_type": "stream",
     "text": [
      "appl get swype iphon crack iphon\n",
      "[   0    0    0    0    0    0    0    0    0    0    0    0    0    1\n",
      "    6 1706    4  562    4]\n",
      "appl ad carrier support iphon announc\n",
      "[  0   0   0   0   0   0   0   0   0   0   0   0   0   1 283 353 146   4\n",
      " 186]\n"
     ]
    }
   ],
   "source": [
    "#you can see, iphon has code=4\n",
    "print(X_tweets_train[0])\n",
    "print(processed_tweets[0])\n",
    "print(X_tweets_train[1])\n",
    "print(processed_tweets[1])"
   ]
  },
  {
   "cell_type": "code",
   "execution_count": 458,
   "metadata": {},
   "outputs": [],
   "source": [
    "d = {\"positive\":1,\"negative\":-1,\"neutral\":0}\n",
    "Y_train = ku.to_categorical(train['Sentiment'].map(d), num_classes=3)\n",
    "Y_test = ku.to_categorical(test['Sentiment'].map(d), num_classes=3)"
   ]
  },
  {
   "cell_type": "code",
   "execution_count": 461,
   "metadata": {},
   "outputs": [
    {
     "name": "stdout",
     "output_type": "stream",
     "text": [
      "_________________________________________________________________\n",
      "Layer (type)                 Output Shape              Param #   \n",
      "=================================================================\n",
      "embedding_3 (Embedding)      (None, 19, 64)            260864    \n",
      "_________________________________________________________________\n",
      "lstm_3 (LSTM)                (None, 50)                23000     \n",
      "_________________________________________________________________\n",
      "dense_3 (Dense)              (None, 3)                 153       \n",
      "=================================================================\n",
      "Total params: 284,017\n",
      "Trainable params: 284,017\n",
      "Non-trainable params: 0\n",
      "_________________________________________________________________\n",
      "None\n",
      "Train on 2272 samples, validate on 237 samples\n",
      "Epoch 1/10\n",
      "2272/2272 [==============================] - 1s - loss: 0.9645 - acc: 0.6413 - val_loss: 0.8549 - val_acc: 0.6582\n",
      "Epoch 2/10\n",
      "2272/2272 [==============================] - 0s - loss: 0.8350 - acc: 0.6496 - val_loss: 0.8106 - val_acc: 0.6624\n",
      "Epoch 3/10\n",
      "2272/2272 [==============================] - 0s - loss: 0.6946 - acc: 0.7020 - val_loss: 0.7519 - val_acc: 0.7173\n",
      "Epoch 4/10\n",
      "2272/2272 [==============================] - 0s - loss: 0.5156 - acc: 0.7795 - val_loss: 0.7259 - val_acc: 0.7426\n",
      "Epoch 5/10\n",
      "2272/2272 [==============================] - 0s - loss: 0.3809 - acc: 0.8512 - val_loss: 0.7355 - val_acc: 0.7553\n",
      "Epoch 6/10\n",
      "2272/2272 [==============================] - 0s - loss: 0.2652 - acc: 0.9124 - val_loss: 0.8157 - val_acc: 0.7553\n",
      "Epoch 7/10\n",
      "2272/2272 [==============================] - 0s - loss: 0.1947 - acc: 0.9366 - val_loss: 0.8804 - val_acc: 0.7637\n",
      "Epoch 8/10\n",
      "2272/2272 [==============================] - 0s - loss: 0.1504 - acc: 0.9494 - val_loss: 0.9756 - val_acc: 0.7131\n",
      "Epoch 9/10\n",
      "2272/2272 [==============================] - 0s - loss: 0.1258 - acc: 0.9560 - val_loss: 1.1168 - val_acc: 0.7173\n",
      "Epoch 10/10\n",
      "2272/2272 [==============================] - 0s - loss: 0.1122 - acc: 0.9617 - val_loss: 1.1110 - val_acc: 0.7089\n"
     ]
    },
    {
     "data": {
      "text/plain": [
       "<keras.callbacks.History at 0x7f8343d122e8>"
      ]
     },
     "execution_count": 461,
     "metadata": {},
     "output_type": "execute_result"
    }
   ],
   "source": [
    "# create the model\n",
    "embedding_vecor_length = 64\n",
    "model = Sequential()\n",
    "model.add(Embedding(total_words, embedding_vecor_length, input_length=max_tweet_legth))\n",
    "model.add(LSTM(50))\n",
    "# model.add(Dropout(0.1))\n",
    "model.add(Dense(3, activation='softmax'))\n",
    "model.compile(loss='categorical_crossentropy', optimizer='adam', metrics=['accuracy'])\n",
    "print(model.summary())\n",
    "model.fit(X_processed_tweets_train, Y_train, validation_data=(X_processed_tweets_test, Y_test), epochs=10, batch_size=64)"
   ]
  },
  {
   "cell_type": "code",
   "execution_count": 462,
   "metadata": {},
   "outputs": [
    {
     "name": "stdout",
     "output_type": "stream",
     "text": [
      "_________________________________________________________________\n",
      "Layer (type)                 Output Shape              Param #   \n",
      "=================================================================\n",
      "embedding_4 (Embedding)      (None, 19, 64)            260864    \n",
      "_________________________________________________________________\n",
      "dropout_1 (Dropout)          (None, 19, 64)            0         \n",
      "_________________________________________________________________\n",
      "lstm_4 (LSTM)                (None, 100)               66000     \n",
      "_________________________________________________________________\n",
      "dropout_2 (Dropout)          (None, 100)               0         \n",
      "_________________________________________________________________\n",
      "dense_4 (Dense)              (None, 3)                 303       \n",
      "=================================================================\n",
      "Total params: 327,167\n",
      "Trainable params: 327,167\n",
      "Non-trainable params: 0\n",
      "_________________________________________________________________\n",
      "None\n",
      "Train on 2272 samples, validate on 237 samples\n",
      "Epoch 1/10\n",
      "2272/2272 [==============================] - 1s - loss: 0.9560 - acc: 0.6250 - val_loss: 0.8473 - val_acc: 0.6582\n",
      "Epoch 2/10\n",
      "2272/2272 [==============================] - 0s - loss: 0.8557 - acc: 0.6492 - val_loss: 0.8187 - val_acc: 0.6582\n",
      "Epoch 3/10\n",
      "2272/2272 [==============================] - 0s - loss: 0.7517 - acc: 0.6805 - val_loss: 0.7606 - val_acc: 0.7089\n",
      "Epoch 4/10\n",
      "2272/2272 [==============================] - 0s - loss: 0.5648 - acc: 0.7619 - val_loss: 0.7452 - val_acc: 0.7300\n",
      "Epoch 5/10\n",
      "2272/2272 [==============================] - 0s - loss: 0.4144 - acc: 0.8336 - val_loss: 0.7667 - val_acc: 0.7511\n",
      "Epoch 6/10\n",
      "2272/2272 [==============================] - 0s - loss: 0.3102 - acc: 0.8948 - val_loss: 0.7989 - val_acc: 0.7637\n",
      "Epoch 7/10\n",
      "2272/2272 [==============================] - 0s - loss: 0.2275 - acc: 0.9243 - val_loss: 0.8777 - val_acc: 0.7384\n",
      "Epoch 8/10\n",
      "2272/2272 [==============================] - 0s - loss: 0.1699 - acc: 0.9379 - val_loss: 0.9724 - val_acc: 0.7173\n",
      "Epoch 9/10\n",
      "2272/2272 [==============================] - 0s - loss: 0.1577 - acc: 0.9432 - val_loss: 1.0658 - val_acc: 0.6920\n",
      "Epoch 10/10\n",
      "2272/2272 [==============================] - 0s - loss: 0.1314 - acc: 0.9560 - val_loss: 1.2347 - val_acc: 0.7004\n"
     ]
    },
    {
     "data": {
      "text/plain": [
       "<keras.callbacks.History at 0x7f8342c4bb38>"
      ]
     },
     "execution_count": 462,
     "metadata": {},
     "output_type": "execute_result"
    }
   ],
   "source": [
    "# create the model\n",
    "embedding_vecor_length = 64\n",
    "model = Sequential()\n",
    "model.add(Embedding(total_words, embedding_vecor_length, input_length=max_tweet_legth))\n",
    "model.add(Dropout(0.2))\n",
    "model.add(LSTM(100))\n",
    "model.add(Dropout(0.2))\n",
    "model.add(Dense(3, activation='softmax'))\n",
    "model.compile(loss='categorical_crossentropy', optimizer='adam', metrics=['accuracy'])\n",
    "print(model.summary())\n",
    "model.fit(X_processed_tweets_train, Y_train, validation_data=(X_processed_tweets_test, Y_test), epochs=10, batch_size=64)"
   ]
  },
  {
   "cell_type": "code",
   "execution_count": 275,
   "metadata": {},
   "outputs": [
    {
     "name": "stdout",
     "output_type": "stream",
     "text": [
      "_________________________________________________________________\n",
      "Layer (type)                 Output Shape              Param #   \n",
      "=================================================================\n",
      "embedding_18 (Embedding)     (None, 21, 10)            42030     \n",
      "_________________________________________________________________\n",
      "lstm_17 (LSTM)               (None, 100)               44400     \n",
      "_________________________________________________________________\n",
      "dense_17 (Dense)             (None, 3)                 303       \n",
      "=================================================================\n",
      "Total params: 86,733\n",
      "Trainable params: 86,733\n",
      "Non-trainable params: 0\n",
      "_________________________________________________________________\n",
      "None\n",
      "Train on 2272 samples, validate on 237 samples\n",
      "Epoch 1/10\n",
      "2272/2272 [==============================] - 2s - loss: 0.9608 - acc: 0.6382 - val_loss: 0.8644 - val_acc: 0.6582\n",
      "Epoch 2/10\n",
      "2272/2272 [==============================] - 0s - loss: 0.8837 - acc: 0.6492 - val_loss: 0.8660 - val_acc: 0.6582\n",
      "Epoch 3/10\n",
      "2272/2272 [==============================] - 0s - loss: 0.8531 - acc: 0.6492 - val_loss: 0.8244 - val_acc: 0.6582\n",
      "Epoch 4/10\n",
      "2272/2272 [==============================] - 0s - loss: 0.7824 - acc: 0.6664 - val_loss: 0.7877 - val_acc: 0.7046\n",
      "Epoch 5/10\n",
      "2272/2272 [==============================] - 0s - loss: 0.6646 - acc: 0.7240 - val_loss: 0.7608 - val_acc: 0.7131\n",
      "Epoch 6/10\n",
      "2272/2272 [==============================] - 0s - loss: 0.5532 - acc: 0.7592 - val_loss: 0.7987 - val_acc: 0.7089\n",
      "Epoch 7/10\n",
      "2272/2272 [==============================] - 0s - loss: 0.4792 - acc: 0.7923 - val_loss: 0.7973 - val_acc: 0.7426\n",
      "Epoch 8/10\n",
      "2272/2272 [==============================] - 0s - loss: 0.4115 - acc: 0.8134 - val_loss: 0.8343 - val_acc: 0.7089\n",
      "Epoch 9/10\n",
      "2272/2272 [==============================] - 0s - loss: 0.3620 - acc: 0.8596 - val_loss: 0.8915 - val_acc: 0.7215\n",
      "Epoch 10/10\n",
      "2272/2272 [==============================] - 1s - loss: 0.3180 - acc: 0.8825 - val_loss: 0.9205 - val_acc: 0.7257\n"
     ]
    },
    {
     "data": {
      "text/plain": [
       "<keras.callbacks.History at 0x7fecac8e9cc0>"
      ]
     },
     "execution_count": 275,
     "metadata": {},
     "output_type": "execute_result"
    }
   ],
   "source": [
    "# create the model\n",
    "embedding_vecor_length = 10\n",
    "model = Sequential()\n",
    "model.add(Embedding(total_words, embedding_vecor_length, input_length=max_tweet_legth))\n",
    "model.add(LSTM(100, dropout=0.2, recurrent_dropout=0.2))\n",
    "model.add(Dense(3, activation='softmax'))\n",
    "model.compile(loss='categorical_crossentropy', optimizer='adam', metrics=['accuracy'])\n",
    "print(model.summary())\n",
    "model.fit(X_processed_tweets_train, Y_train, validation_data=(X_processed_tweets_test, Y_test), epochs=10, batch_size=64)"
   ]
  },
  {
   "cell_type": "code",
   "execution_count": 281,
   "metadata": {},
   "outputs": [
    {
     "name": "stdout",
     "output_type": "stream",
     "text": [
      "_________________________________________________________________\n",
      "Layer (type)                 Output Shape              Param #   \n",
      "=================================================================\n",
      "embedding_22 (Embedding)     (None, 21, 10)            42030     \n",
      "_________________________________________________________________\n",
      "conv1d_3 (Conv1D)            (None, 21, 12)            372       \n",
      "_________________________________________________________________\n",
      "max_pooling1d_2 (MaxPooling1 (None, 10, 12)            0         \n",
      "_________________________________________________________________\n",
      "lstm_19 (LSTM)               (None, 100)               45200     \n",
      "_________________________________________________________________\n",
      "dense_19 (Dense)             (None, 3)                 303       \n",
      "=================================================================\n",
      "Total params: 87,905\n",
      "Trainable params: 87,905\n",
      "Non-trainable params: 0\n",
      "_________________________________________________________________\n",
      "None\n",
      "Train on 2272 samples, validate on 237 samples\n",
      "Epoch 1/10\n",
      "2272/2272 [==============================] - 1s - loss: 0.9588 - acc: 0.6294 - val_loss: 0.8792 - val_acc: 0.6582\n",
      "Epoch 2/10\n",
      "2272/2272 [==============================] - 0s - loss: 0.8847 - acc: 0.6492 - val_loss: 0.8617 - val_acc: 0.6582\n",
      "Epoch 3/10\n",
      "2272/2272 [==============================] - 0s - loss: 0.8549 - acc: 0.6492 - val_loss: 0.8368 - val_acc: 0.6582\n",
      "Epoch 4/10\n",
      "2272/2272 [==============================] - 0s - loss: 0.7450 - acc: 0.6730 - val_loss: 0.7761 - val_acc: 0.6962\n",
      "Epoch 5/10\n",
      "2272/2272 [==============================] - 0s - loss: 0.5918 - acc: 0.7416 - val_loss: 0.7787 - val_acc: 0.7173\n",
      "Epoch 6/10\n",
      "2272/2272 [==============================] - 0s - loss: 0.4638 - acc: 0.7839 - val_loss: 0.8633 - val_acc: 0.6962\n",
      "Epoch 7/10\n",
      "2272/2272 [==============================] - 0s - loss: 0.3970 - acc: 0.8209 - val_loss: 0.9650 - val_acc: 0.6793\n",
      "Epoch 8/10\n",
      "2272/2272 [==============================] - 0s - loss: 0.3464 - acc: 0.8424 - val_loss: 1.0196 - val_acc: 0.7089\n",
      "Epoch 9/10\n",
      "2272/2272 [==============================] - 0s - loss: 0.3068 - acc: 0.8592 - val_loss: 1.2223 - val_acc: 0.6540\n",
      "Epoch 10/10\n",
      "2272/2272 [==============================] - 0s - loss: 0.2691 - acc: 0.8772 - val_loss: 1.2892 - val_acc: 0.6835\n"
     ]
    },
    {
     "data": {
      "text/plain": [
       "<keras.callbacks.History at 0x7feca68916d8>"
      ]
     },
     "execution_count": 281,
     "metadata": {},
     "output_type": "execute_result"
    }
   ],
   "source": [
    "# create the model\n",
    "embedding_vecor_length = 10\n",
    "model = Sequential()\n",
    "model.add(Embedding(total_words, embedding_vecor_length, input_length=max_tweet_legth))\n",
    "model.add(Conv1D(filters=12, kernel_size=3, padding='same', activation='relu'))\n",
    "model.add(MaxPooling1D(pool_size=2))\n",
    "model.add(LSTM(100))\n",
    "model.add(Dense(3, activation='softmax'))\n",
    "model.compile(loss='categorical_crossentropy', optimizer='adam', metrics=['accuracy'])\n",
    "print(model.summary())\n",
    "model.fit(X_processed_tweets_train, Y_train, validation_data=(X_processed_tweets_test, Y_test), epochs=10, batch_size=64)"
   ]
  },
  {
   "cell_type": "markdown",
   "metadata": {},
   "source": [
    "# Find more then 3 classes"
   ]
  },
  {
   "cell_type": "code",
   "execution_count": 86,
   "metadata": {},
   "outputs": [],
   "source": [
    "%matplotlib inline\n",
    "import matplotlib.pyplot as plt\n",
    "import seaborn as sns"
   ]
  },
  {
   "cell_type": "code",
   "execution_count": 87,
   "metadata": {},
   "outputs": [],
   "source": [
    "from sklearn.manifold import TSNE"
   ]
  },
  {
   "cell_type": "code",
   "execution_count": 88,
   "metadata": {},
   "outputs": [],
   "source": [
    "X = scipy.sparse.vstack((X_train_with_comp, X_test_with_comp)).toarray()"
   ]
  },
  {
   "cell_type": "code",
   "execution_count": 89,
   "metadata": {},
   "outputs": [],
   "source": [
    "y = np.r_[train['Sentiment'].values, test['Sentiment'].values]"
   ]
  },
  {
   "cell_type": "code",
   "execution_count": 90,
   "metadata": {},
   "outputs": [
    {
     "name": "stdout",
     "output_type": "stream",
     "text": [
      "CPU times: user 1min 53s, sys: 6.46 s, total: 1min 59s\n",
      "Wall time: 2min 1s\n"
     ]
    }
   ],
   "source": [
    "%%time\n",
    "tsne = TSNE(n_components=2, random_state=None)\n",
    "X_embedded = tsne.fit_transform(X)"
   ]
  },
  {
   "cell_type": "code",
   "execution_count": 91,
   "metadata": {
    "scrolled": true
   },
   "outputs": [
    {
     "data": {
      "text/plain": [
       "array([[  5.325433 ,  23.571213 ],\n",
       "       [  2.8626156,  24.460033 ],\n",
       "       [ 10.928059 ,  22.05847  ],\n",
       "       ...,\n",
       "       [ 18.483738 , -19.652021 ],\n",
       "       [ 26.930134 , -26.155321 ],\n",
       "       [ 22.923584 , -23.802393 ]], dtype=float32)"
      ]
     },
     "execution_count": 91,
     "metadata": {},
     "output_type": "execute_result"
    }
   ],
   "source": [
    "X_embedded"
   ]
  },
  {
   "cell_type": "code",
   "execution_count": 92,
   "metadata": {},
   "outputs": [
    {
     "data": {
      "text/plain": [
       "array(['positive', 'positive', 'positive', ..., 'neutral', 'neutral',\n",
       "       'neutral'], dtype=object)"
      ]
     },
     "execution_count": 92,
     "metadata": {},
     "output_type": "execute_result"
    }
   ],
   "source": [
    "y"
   ]
  },
  {
   "cell_type": "code",
   "execution_count": 101,
   "metadata": {},
   "outputs": [
    {
     "data": {
      "image/png": "[encoded data removed]",
      "text/plain": [
       "<Figure size 1080x720 with 1 Axes>"
      ]
     },
     "metadata": {
      "needs_background": "light"
     },
     "output_type": "display_data"
    }
   ],
   "source": [
    "c_map = y[::]\n",
    "c_map[c_map == 'positive'] = 'blue'\n",
    "c_map[c_map == 'neutral'] = 'green'\n",
    "c_map[c_map == 'negative'] = 'red'\n",
    "\n",
    "plt.figure(figsize=(15, 10))\n",
    "sns.scatterplot(\n",
    "    X_embedded[:, 0],\n",
    "    X_embedded[:, 1],\n",
    "#     alpha=0.6,\n",
    "#     c=c_map,\n",
    ");"
   ]
  },
  {
   "cell_type": "code",
   "execution_count": null,
   "metadata": {},
   "outputs": [],
   "source": []
  }
 ],
 "metadata": {
  "kernelspec": {
   "display_name": "Python 3",
   "language": "python",
   "name": "python3"
  },
  "language_info": {
   "codemirror_mode": {
    "name": "ipython",
    "version": 3
   },
   "file_extension": ".py",
   "mimetype": "text/x-python",
   "name": "python",
   "nbconvert_exporter": "python",
   "pygments_lexer": "ipython3",
   "version": "3.6.5"
  }
 },
 "nbformat": 4,
 "nbformat_minor": 2
}
